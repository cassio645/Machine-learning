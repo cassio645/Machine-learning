{
 "cells": [
  {
   "cell_type": "markdown",
   "metadata": {},
   "source": [
    "# O SVM (Support Vector Machine)\n",
    "- Utilizando o dataset iris, podemos utilizar apenas a coluna petal width (cm) e visualizar a seguinte classificação dos dados:\n",
    "<img src=\"https://drive.google.com/uc?id=1uEDHjpB-etkcNadcNYbBZqZeOBrIhCLi\" style='width: 600px;' />\n",
    "<br>\n",
    "- Se tivermos um novo ponto, como o mostrado em vermelho, automaticamente já vamos pensar que esse ponto possui a mesma classe dos pontos em roxo:\n",
    "<img src=\"https://drive.google.com/uc?id=1iYYZoHp4B9Suh6sI2H7G6G2WI6M-RKFP\" style='width: 600px;' />\n",
    "<br>\n",
    "- Da mesma forma, tendemos a pensar que esse novo ponto deve ser classificado como amarelo:\n",
    "<img src=\"https://drive.google.com/uc?id=1dfMuwPa6-r7CW9btaWnkHn3hVEDykKw6\" style='width: 600px;' />\n",
    "<br>\n",
    "- E é uma lógica muito parecida com essa que temos no SVM\n",
    "<br>\n",
    "- Podemos basicamente pegar os pontos que estão mais no extremo dos dados (**os pontos de duas classes diferentes que estão mais próximos entre si**) e usar esses pontos para determinar um <font color='red'>**hiperplano**</font> capaz de separar essas classes\n",
    "<img src=\"https://drive.google.com/uc?id=1KoDBoT2Lcm31A-ebAuWLgilSEEeY4OlW\" style='width: 600px;' />\n",
    "- **Quanto maior a margem, melhor!**\n",
    "<br><br>\n",
    "- Um fato importante é que ele **pode ser utilizado tanto em dados linearmente separáveis** (como mostrado acima) **como em dados que não são linearmente separáveis** (que são a maioria dos nossos dados)\n",
    "    - Ele faz isso elevando as dimensões dos dados\n",
    "    - O SVM vai usar as funções de kernel e no próprio algoritmo ele vai buscar a melhor dimensão capaz de encontrar essa reta\n",
    "    - Só que ele não faz efetivamente essas transformações, ele só vai calcular a relação entre os pontos considerando que eles estão nessas dimensões. Isso é chamado de **\"Truque do Kernel\"**\n",
    "<br>\n",
    "<img src=\"https://drive.google.com/uc?id=1DpLpHou1tc4UayxKFglqb4I48EhjoktX\" style='width: 1000px;' />\n",
    "<br>\n",
    "- E por mais que a gente tenha visto em apenas 1D, ele funciona para qualquer dimensão dos dados\n",
    "<img src=\"https://drive.google.com/uc?id=17U2EPYj1pmbkXFimoLLP1mDWN0uiW3kP\" style='width: 400px;' />\n",
    "<br>\n",
    "- **É um algoritmo muito poderoso porém pode demorar muito tempo para treinar os dados**"
   ]
  },
  {
   "cell_type": "markdown",
   "metadata": {},
   "source": [
    "- **Para começar, podemos já usar o dataset iris**\n",
    "    - https://scikit-learn.org/stable/modules/generated/sklearn.datasets.load_iris.html#sklearn.datasets.load_iris"
   ]
  },
  {
   "cell_type": "code",
   "execution_count": 1,
   "metadata": {},
   "outputs": [],
   "source": [
    "# Importando o dataset\n",
    "from sklearn.datasets import load_iris\n",
    "X,y = load_iris(return_X_y = True, as_frame=True)"
   ]
  },
  {
   "cell_type": "code",
   "execution_count": 2,
   "metadata": {},
   "outputs": [],
   "source": [
    "# Considerando as duas colunas de pétala os targets 0 e 1\n",
    "X = X.loc[y.isin([0,1]),['petal length (cm)','petal width (cm)']]\n",
    "y = y[y.isin([0,1])]"
   ]
  },
  {
   "cell_type": "markdown",
   "metadata": {},
   "source": [
    "- E separar em treino e teste\n",
    "    - https://scikit-learn.org/stable/modules/generated/sklearn.model_selection.train_test_split.html"
   ]
  },
  {
   "cell_type": "code",
   "execution_count": 3,
   "metadata": {},
   "outputs": [],
   "source": [
    "# Separando em treino e teste\n",
    "from sklearn.model_selection import train_test_split\n",
    "X_train, X_test, y_train, y_test = train_test_split(X, y, test_size=0.33, random_state=42)"
   ]
  },
  {
   "cell_type": "markdown",
   "metadata": {},
   "source": [
    "- Visualizando graficamente essas informações\n",
    "    - https://matplotlib.org/stable/plot_types/basic/scatter_plot.html#sphx-glr-plot-types-basic-scatter-plot-py"
   ]
  },
  {
   "cell_type": "code",
   "execution_count": 4,
   "metadata": {},
   "outputs": [
    {
     "data": {
      "image/png": "[encoded data removed]",
      "text/plain": [
       "<Figure size 640x480 with 1 Axes>"
      ]
     },
     "metadata": {},
     "output_type": "display_data"
    }
   ],
   "source": [
    "# Visualizando graficamente\n",
    "import matplotlib.pyplot as plt\n",
    "import numpy as np\n",
    "\n",
    "fig, ax = plt.subplots()\n",
    "\n",
    "ax.scatter(X_train['petal length (cm)'], X_train['petal width (cm)'],c=y_train,s=60)\n",
    "\n",
    "plt.show()"
   ]
  },
  {
   "cell_type": "markdown",
   "metadata": {},
   "source": [
    "- **Utilizando o SVC**\n",
    "    - https://scikit-learn.org/stable/modules/generated/sklearn.svm.SVC.html#sklearn.svm.SVC"
   ]
  },
  {
   "cell_type": "code",
   "execution_count": 5,
   "metadata": {},
   "outputs": [],
   "source": [
    "# Importando o SVC\n",
    "from sklearn.svm import SVC"
   ]
  },
  {
   "cell_type": "code",
   "execution_count": 6,
   "metadata": {},
   "outputs": [],
   "source": [
    "# Criando o classificador e já fazendo o fit com os dados\n",
    "modelo = SVC(kernel='linear').fit(X_train, y_train)"
   ]
  },
  {
   "cell_type": "code",
   "execution_count": 7,
   "metadata": {},
   "outputs": [
    {
     "data": {
      "text/plain": [
       "array([1.1769056 , 0.78337144])"
      ]
     },
     "execution_count": 7,
     "metadata": {},
     "output_type": "execute_result"
    }
   ],
   "source": [
    "# Visualizando o coef\n",
    "modelo.coef_[0]"
   ]
  },
  {
   "cell_type": "code",
   "execution_count": 8,
   "metadata": {},
   "outputs": [
    {
     "data": {
      "text/plain": [
       "1.1769056049701343"
      ]
     },
     "execution_count": 8,
     "metadata": {},
     "output_type": "execute_result"
    }
   ],
   "source": [
    "# Separando w1\n",
    "w1 = modelo.coef_[0][0]\n",
    "w1"
   ]
  },
  {
   "cell_type": "code",
   "execution_count": 9,
   "metadata": {},
   "outputs": [
    {
     "data": {
      "text/plain": [
       "0.7833714351967628"
      ]
     },
     "execution_count": 9,
     "metadata": {},
     "output_type": "execute_result"
    }
   ],
   "source": [
    "# e w2\n",
    "w2 = modelo.coef_[0][1]\n",
    "w2"
   ]
  },
  {
   "cell_type": "code",
   "execution_count": 10,
   "metadata": {},
   "outputs": [
    {
     "data": {
      "text/plain": [
       "-3.392548559820387"
      ]
     },
     "execution_count": 10,
     "metadata": {},
     "output_type": "execute_result"
    }
   ],
   "source": [
    "# E agora utilizando o intercept_ como w0\n",
    "w0 = modelo.intercept_[0]\n",
    "w0"
   ]
  },
  {
   "cell_type": "markdown",
   "metadata": {},
   "source": [
    "- Para traçar a reta, podemos considerar que a equação da reta será dada por:\n",
    "    - y = ax + b\n",
    "- Para considerar os dois coeficientes, também podemos escrever como:\n",
    "    - w1.X_train[0] + w2.X_train[1] + w0 = 0\n",
    "    - w1.X_train['petal width (cm)'] + w2.X_train['petal length (cm)'] + w0 = 0\n",
    "    - Sendo x = X_train['petal width (cm)'] e y = X_train['petal length (cm)']:\n",
    "        - w1.x + w2.y + w0 = 0\n",
    "        - w2.y = -w1.x - w0\n",
    "        - y = (-w1.x - w0)/w2"
   ]
  },
  {
   "cell_type": "code",
   "execution_count": 16,
   "metadata": {},
   "outputs": [
    {
     "data": {
      "image/png": "[encoded data removed]",
      "text/plain": [
       "<Figure size 640x480 with 1 Axes>"
      ]
     },
     "metadata": {},
     "output_type": "display_data"
    }
   ],
   "source": [
    "# Traçando essa reta no gráfico\n",
    "fig, ax = plt.subplots()\n",
    "\n",
    "ax.scatter(X_train['petal length (cm)'], X_train['petal width (cm)'],c=y_train,s=60)\n",
    "\n",
    "# criando um array com 100 valores de 1 ate 5\n",
    "x = np.linspace(1, 5, 100)\n",
    "\n",
    "# calculando a reta\n",
    "y = (-w1*x-w0)/w2\n",
    "ax.plot(x, y,'r')\n",
    "\n",
    "# limites do gráfico\n",
    "plt.ylim(ymin=0, ymax=2)\n",
    "plt.xlim(xmin=0, xmax=5)\n",
    "\n",
    "plt.show()"
   ]
  },
  {
   "cell_type": "code",
   "execution_count": 17,
   "metadata": {},
   "outputs": [
    {
     "data": {
      "text/plain": [
       "array([[1.9, 0.2],\n",
       "       [1.7, 0.5],\n",
       "       [3. , 1.1]])"
      ]
     },
     "execution_count": 17,
     "metadata": {},
     "output_type": "execute_result"
    }
   ],
   "source": [
    "# Além disso, também podemos ver quais foram os vetores de suporte utilizados para traçar essa reta\n",
    "modelo.support_vectors_"
   ]
  },
  {
   "cell_type": "code",
   "execution_count": 20,
   "metadata": {},
   "outputs": [],
   "source": [
    "# Pegando os valores de x\n",
    "suport_x = modelo.support_vectors_[:, 0]"
   ]
  },
  {
   "cell_type": "code",
   "execution_count": 21,
   "metadata": {},
   "outputs": [],
   "source": [
    "# E os valores de y\n",
    "suport_y = modelo.support_vectors_[:, 1]"
   ]
  },
  {
   "cell_type": "code",
   "execution_count": 24,
   "metadata": {},
   "outputs": [
    {
     "data": {
      "image/png": "[encoded data removed]",
      "text/plain": [
       "<Figure size 640x480 with 1 Axes>"
      ]
     },
     "metadata": {},
     "output_type": "display_data"
    }
   ],
   "source": [
    "# Visualizando esses pontos\n",
    "\n",
    "fig, ax = plt.subplots()\n",
    "\n",
    "ax.scatter(X_train['petal length (cm)'], X_train['petal width (cm)'],c=y_train,s=60)\n",
    "\n",
    "# criando um array com 100 valores de 1 ate 5\n",
    "x = np.linspace(1, 5, 100)\n",
    "\n",
    "# calculando a reta\n",
    "y = (-w1*x-w0)/w2\n",
    "ax.plot(x, y,'r')\n",
    "\n",
    "# calculando a reta +1\n",
    "# calculando a reta\n",
    "y = (+1-w1*x-w0)/w2\n",
    "ax.plot(x, y,'--r')\n",
    "\n",
    "# calculando a reta -1\n",
    "# calculando a reta\n",
    "y = (-1-w1*x-w0)/w2\n",
    "ax.plot(x, y,'--r')\n",
    "\n",
    "ax.scatter(suport_x, suport_y)\n",
    "\n",
    "# limites do gráfico\n",
    "plt.ylim(ymin=0, ymax=1.75)\n",
    "plt.xlim(xmin=0, xmax=5)\n",
    "\n",
    "plt.show()"
   ]
  },
  {
   "cell_type": "markdown",
   "metadata": {},
   "source": [
    "- **Agora podemos usar toda a nossa base de dados**"
   ]
  },
  {
   "cell_type": "code",
   "execution_count": 25,
   "metadata": {},
   "outputs": [],
   "source": [
    "# Importando o dataset\n",
    "from sklearn.datasets import load_iris\n",
    "x, y = load_iris(return_X_y=True, as_frame=True)"
   ]
  },
  {
   "cell_type": "code",
   "execution_count": 26,
   "id": "4a52f963",
   "metadata": {},
   "outputs": [
    {
     "data": {
      "text/html": [
       "<div>\n",
       "<style scoped>\n",
       "    .dataframe tbody tr th:only-of-type {\n",
       "        vertical-align: middle;\n",
       "    }\n",
       "\n",
       "    .dataframe tbody tr th {\n",
       "        vertical-align: top;\n",
       "    }\n",
       "\n",
       "    .dataframe thead th {\n",
       "        text-align: right;\n",
       "    }\n",
       "</style>\n",
       "<table border=\"1\" class=\"dataframe\">\n",
       "  <thead>\n",
       "    <tr style=\"text-align: right;\">\n",
       "      <th></th>\n",
       "      <th>sepal length (cm)</th>\n",
       "      <th>sepal width (cm)</th>\n",
       "      <th>petal length (cm)</th>\n",
       "      <th>petal width (cm)</th>\n",
       "    </tr>\n",
       "  </thead>\n",
       "  <tbody>\n",
       "    <tr>\n",
       "      <th>0</th>\n",
       "      <td>5.1</td>\n",
       "      <td>3.5</td>\n",
       "      <td>1.4</td>\n",
       "      <td>0.2</td>\n",
       "    </tr>\n",
       "    <tr>\n",
       "      <th>1</th>\n",
       "      <td>4.9</td>\n",
       "      <td>3.0</td>\n",
       "      <td>1.4</td>\n",
       "      <td>0.2</td>\n",
       "    </tr>\n",
       "    <tr>\n",
       "      <th>2</th>\n",
       "      <td>4.7</td>\n",
       "      <td>3.2</td>\n",
       "      <td>1.3</td>\n",
       "      <td>0.2</td>\n",
       "    </tr>\n",
       "    <tr>\n",
       "      <th>3</th>\n",
       "      <td>4.6</td>\n",
       "      <td>3.1</td>\n",
       "      <td>1.5</td>\n",
       "      <td>0.2</td>\n",
       "    </tr>\n",
       "    <tr>\n",
       "      <th>4</th>\n",
       "      <td>5.0</td>\n",
       "      <td>3.6</td>\n",
       "      <td>1.4</td>\n",
       "      <td>0.2</td>\n",
       "    </tr>\n",
       "    <tr>\n",
       "      <th>...</th>\n",
       "      <td>...</td>\n",
       "      <td>...</td>\n",
       "      <td>...</td>\n",
       "      <td>...</td>\n",
       "    </tr>\n",
       "    <tr>\n",
       "      <th>145</th>\n",
       "      <td>6.7</td>\n",
       "      <td>3.0</td>\n",
       "      <td>5.2</td>\n",
       "      <td>2.3</td>\n",
       "    </tr>\n",
       "    <tr>\n",
       "      <th>146</th>\n",
       "      <td>6.3</td>\n",
       "      <td>2.5</td>\n",
       "      <td>5.0</td>\n",
       "      <td>1.9</td>\n",
       "    </tr>\n",
       "    <tr>\n",
       "      <th>147</th>\n",
       "      <td>6.5</td>\n",
       "      <td>3.0</td>\n",
       "      <td>5.2</td>\n",
       "      <td>2.0</td>\n",
       "    </tr>\n",
       "    <tr>\n",
       "      <th>148</th>\n",
       "      <td>6.2</td>\n",
       "      <td>3.4</td>\n",
       "      <td>5.4</td>\n",
       "      <td>2.3</td>\n",
       "    </tr>\n",
       "    <tr>\n",
       "      <th>149</th>\n",
       "      <td>5.9</td>\n",
       "      <td>3.0</td>\n",
       "      <td>5.1</td>\n",
       "      <td>1.8</td>\n",
       "    </tr>\n",
       "  </tbody>\n",
       "</table>\n",
       "<p>150 rows × 4 columns</p>\n",
       "</div>"
      ],
      "text/plain": [
       "     sepal length (cm)  sepal width (cm)  petal length (cm)  petal width (cm)\n",
       "0                  5.1               3.5                1.4               0.2\n",
       "1                  4.9               3.0                1.4               0.2\n",
       "2                  4.7               3.2                1.3               0.2\n",
       "3                  4.6               3.1                1.5               0.2\n",
       "4                  5.0               3.6                1.4               0.2\n",
       "..                 ...               ...                ...               ...\n",
       "145                6.7               3.0                5.2               2.3\n",
       "146                6.3               2.5                5.0               1.9\n",
       "147                6.5               3.0                5.2               2.0\n",
       "148                6.2               3.4                5.4               2.3\n",
       "149                5.9               3.0                5.1               1.8\n",
       "\n",
       "[150 rows x 4 columns]"
      ]
     },
     "execution_count": 26,
     "metadata": {},
     "output_type": "execute_result"
    }
   ],
   "source": [
    "# Visualizando os dados de x (são todos os dados exceto target)\n",
    "x"
   ]
  },
  {
   "cell_type": "code",
   "execution_count": 27,
   "id": "fb2b6729",
   "metadata": {},
   "outputs": [
    {
     "data": {
      "text/plain": [
       "0      0\n",
       "1      0\n",
       "2      0\n",
       "3      0\n",
       "4      0\n",
       "      ..\n",
       "145    2\n",
       "146    2\n",
       "147    2\n",
       "148    2\n",
       "149    2\n",
       "Name: target, Length: 150, dtype: int64"
      ]
     },
     "execution_count": 27,
     "metadata": {},
     "output_type": "execute_result"
    }
   ],
   "source": [
    "# Visualizando y (target)\n",
    "y"
   ]
  },
  {
   "cell_type": "code",
   "execution_count": 28,
   "metadata": {},
   "outputs": [],
   "source": [
    "# Separando em treino e teste\n",
    "x_train, x_test, y_train, y_test = train_test_split(x, y, test_size=0.33, random_state=42)"
   ]
  },
  {
   "cell_type": "code",
   "execution_count": 29,
   "metadata": {},
   "outputs": [],
   "source": [
    "# Criando o classificador\n",
    "modelo_iris = SVC().fit(x_train, y_train)"
   ]
  },
  {
   "cell_type": "code",
   "execution_count": 31,
   "metadata": {},
   "outputs": [],
   "source": [
    "# Fazendo a previsão\n",
    "y_pred = modelo_iris.predict(x_test)"
   ]
  },
  {
   "cell_type": "code",
   "execution_count": 32,
   "metadata": {},
   "outputs": [
    {
     "data": {
      "text/plain": [
       "array([[19,  0,  0],\n",
       "       [ 0, 15,  0],\n",
       "       [ 0,  0, 16]])"
      ]
     },
     "execution_count": 32,
     "metadata": {},
     "output_type": "execute_result"
    }
   ],
   "source": [
    "# E analisando a matriz de confusão\n",
    "from sklearn.metrics import confusion_matrix\n",
    "\n",
    "confusion_matrix(y_test, y_pred)"
   ]
  },
  {
   "attachments": {},
   "cell_type": "markdown",
   "id": "02d60b91",
   "metadata": {},
   "source": [
    "O modelo está prevendo 100% dos casos corretamente"
   ]
  },
  {
   "cell_type": "code",
   "execution_count": 36,
   "id": "c4257ddb",
   "metadata": {},
   "outputs": [
    {
     "name": "stdout",
     "output_type": "stream",
     "text": [
      "Acurácia: 1.0\n",
      "Precisão: 1.0\n",
      "Recall: 1.0\n"
     ]
    }
   ],
   "source": [
    "from sklearn import metrics\n",
    "\n",
    "print(f'Acurácia: {metrics.accuracy_score(y_test, y_pred)}')\n",
    "print(f'Precisão: {metrics.precision_score(y_test, y_pred, average=\"macro\")}')\n",
    "print(f'Recall: {metrics.recall_score(y_test, y_pred, average=\"macro\")}')"
   ]
  }
 ],
 "metadata": {
  "kernelspec": {
   "display_name": "Python 3",
   "language": "python",
   "name": "python3"
  },
  "language_info": {
   "codemirror_mode": {
    "name": "ipython",
    "version": 3
   },
   "file_extension": ".py",
   "mimetype": "text/x-python",
   "name": "python",
   "nbconvert_exporter": "python",
   "pygments_lexer": "ipython3",
   "version": "3.10.6"
  },
  "vscode": {
   "interpreter": {
    "hash": "916dbcbb3f70747c44a77c7bcd40155683ae19c65e1c03b4aa3499c5328201f1"
   }
  }
 },
 "nbformat": 4,
 "nbformat_minor": 5
}
